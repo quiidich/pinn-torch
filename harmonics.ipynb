{
  "cells": [
    {
      "cell_type": "code",
      "source": [
        "import yaml\n",
        "\n",
        "import numpy as np\n",
        "import matplotlib.pyplot as plt\n",
        "plt.rcParams['text.usetex'] = True\n",
        "\n",
        "import torch\n",
        "import torch.nn as nn"
      ],
      "metadata": {
        "id": "we5bXlfQA4_d"
      },
      "execution_count": 1,
      "outputs": []
    },
    {
      "cell_type": "code",
      "source": [
        "#with open(\"Harmonic_Oscilator/config.yml\") as f:\n",
        "#    config = yaml.safe_load(f)\n",
        "\n",
        "# yaml\n",
        "config ={'m': 1, 'k': 400, 'miu': 4, 'epoch': 20_000, 'lr': 0.0001}"
      ],
      "metadata": {
        "id": "cF6OvfsyBAmP"
      },
      "execution_count": 3,
      "outputs": []
    },
    {
      "cell_type": "code",
      "source": [
        "def set_seed(seed: int = 42):\n",
        "    '''\n",
        "    Seeding the random variables for reproducibility\n",
        "    '''\n",
        "    torch.manual_seed(seed)\n",
        "    torch.cuda.manual_seed(seed)\n",
        "    torch.cuda.manual_seed_all(seed)\n",
        "    torch.backends.cudnn.deterministic = True\n",
        "    torch.backends.cudnn.benchmark = False"
      ],
      "metadata": {
        "id": "jL3kr-52BDOn"
      },
      "execution_count": 4,
      "outputs": []
    },
    {
      "cell_type": "code",
      "source": [
        "class PhysicsNN(nn.Module):\n",
        "    def __init__(self):\n",
        "        super(PhysicsNN, self).__init__()\n",
        "        # Input layer\n",
        "        self.linear_in = nn.Linear(1, 32)\n",
        "        # Output layer\n",
        "        self.linear_out = nn.Linear(32, 1)\n",
        "        # Hidden layers\n",
        "        self.layers = nn.ModuleList(\n",
        "            [nn.Linear(32, 32) for i in range(2)]\n",
        "        )\n",
        "        # Activation function\n",
        "        self.act = nn.Tanh()\n",
        "\n",
        "    def forward(self, x: torch.Tensor) -> torch.Tensor:\n",
        "        x = self.linear_in(x)\n",
        "        x = self.act(x)\n",
        "        for layer in self.layers:\n",
        "            x = self.act(layer(x))\n",
        "        x = self.linear_out(x)\n",
        "        return x"
      ],
      "metadata": {
        "id": "Lff1LOyLBFs9"
      },
      "execution_count": 5,
      "outputs": []
    },
    {
      "cell_type": "code",
      "source": [
        "def derivative(model: PhysicsNN, x_f: torch.Tensor, order: int = 1) -> torch.Tensor:\n",
        "    \"\"\"\n",
        "    This function calculates the derivative of the model at x_f\n",
        "    \"\"\"\n",
        "    dy = model(x_f)\n",
        "    for i in range(order):\n",
        "        dy = torch.autograd.grad(\n",
        "            dy, x_f, grad_outputs = torch.ones_like(x_f), create_graph=True, retain_graph=True\n",
        "        )[0]\n",
        "    return dy"
      ],
      "metadata": {
        "id": "tQBpxsgfBJSt"
      },
      "execution_count": 6,
      "outputs": []
    },
    {
      "cell_type": "code",
      "source": [
        "def u_function(model: PhysicsNN, x: torch.Tensor) -> torch.Tensor:\n",
        "    \"\"\"\n",
        "    This function evaluates the model on the input x\n",
        "    \"\"\"\n",
        "    return model(x)"
      ],
      "metadata": {
        "id": "X0AxiPgyBLiX"
      },
      "execution_count": 7,
      "outputs": []
    },
    {
      "cell_type": "code",
      "source": [
        "def f(model: PhysicsNN, x_f: torch.Tensor, m: float, miu: float, k: float) -> torch.Tensor:\n",
        "    \"\"\"\n",
        "    This function evaluates the physics governing the model on the input x_f\n",
        "    \"\"\"\n",
        "    u = u_function(model, x_f)\n",
        "    dudx = derivative(model, x_f, order = 1)\n",
        "    d2udx2 = derivative(model, x_f, order = 2)\n",
        "    f = d2udx2 + miu*dudx + k*u\n",
        "    return f"
      ],
      "metadata": {
        "id": "dhfBH-LZBOCe"
      },
      "execution_count": 8,
      "outputs": []
    },
    {
      "cell_type": "code",
      "source": [
        "def loss_function(model: PhysicsNN, x_u: torch.Tensor, x_f: torch.Tensor, y_u: torch.Tensor) -> torch.Tensor:\n",
        "    m = config[\"m\"]\n",
        "    miu = config[\"miu\"]\n",
        "    k = config[\"k\"]\n",
        "    # Loss associated with the physics governing the model\n",
        "    MSE_f = f(model, x_f, m, miu, k).pow(2).mean()*1e-4\n",
        "    # Loss associated with the boundary conditions and the data\n",
        "    MSE_u = (u_function(model, x_u.float())-y_u).pow(2).mean()\n",
        "    return MSE_f + MSE_u"
      ],
      "metadata": {
        "id": "UMtU-F_hBP5W"
      },
      "execution_count": 9,
      "outputs": []
    },
    {
      "cell_type": "code",
      "source": [
        "def train(model: PhysicsNN, x_u: torch.Tensor, x_f: torch.Tensor, y_u: torch.Tensor):\n",
        "    \"\"\"\n",
        "    This function trains the model on the input data\n",
        "    \"\"\"\n",
        "    epoch = config[\"epoch\"]\n",
        "    lr = config[\"lr\"]\n",
        "    optimizer = torch.optim.Adam(model.parameters(), lr=lr)\n",
        "    loss_list = []\n",
        "    for epoch in range(epoch):\n",
        "        optimizer.zero_grad()\n",
        "        loss = loss_function(model, x_u, x_f, y_u)\n",
        "        loss_list.append(loss.item())\n",
        "        loss.backward()\n",
        "        optimizer.step()\n",
        "        if epoch % 1_000 == 0:\n",
        "            print(f\"Epoch: {epoch}, Loss: {loss.item()}\")\n",
        "    return model, loss_list"
      ],
      "metadata": {
        "id": "36svQbOqBSkm"
      },
      "execution_count": 10,
      "outputs": []
    },
    {
      "cell_type": "code",
      "source": [
        "if __name__ == \"__main__\":\n",
        "    # Seeding random variables\n",
        "    set_seed(42)\n",
        "\n",
        "    # loading the training data on the boundary\n",
        "#    x_data = np.loadtxt(\"Harmonic_Oscilator/data/x_data.csv\")\n",
        "#    y_data = np.loadtxt(\"Harmonic_Oscilator/data/y_data.csv\")\n",
        "#    x_u = torch.tensor(x_data, requires_grad=True).reshape(x_data.shape[0], 1)\n",
        "#    y_u = torch.tensor(y_data, requires_grad=True).reshape(x_data.shape[0], 1)\n",
        "\n",
        "    x_u = torch.tensor([0.0e+00, 4.0e-02, 8.0e-02, 1.2e-01, 1.6e-01, 2.0e-01,\n",
        "              2.4e-01, 2.8e-01, 3.2e-01, 3.6e-01],requires_grad=True)\n",
        "    y_u = torch.tensor([1.0e-00, 7.1e-01, 6.5e-02, -5.2e-01, -7.3e-01, -4.9e-01,\n",
        "              -1.7e-02, 4.0e-01, 5.3e-01, 3.4e-01],requires_grad=True)\n",
        "    x_u = x_u.reshape(-1,1)\n",
        "    y_u = y_u.reshape(-1,1)\n",
        "\n",
        "    x_f = torch.linspace(0, 1, 100).reshape(-1, 1)\n",
        "    x_f.requires_grad = True\n",
        "\n",
        "    # Instantiating the model\n",
        "    model = PhysicsNN()\n",
        "\n",
        "    # Training the model on the boundary data and the collocation data\n",
        "    model, loss_list = train(model, x_u, x_f, y_u)\n",
        "\n",
        "    # Plotting the results\n",
        "    import matplotlib.pyplot as plt\n",
        "\n",
        "    y_f = model(x_f).detach().numpy()\n",
        "    x_f = x_f.detach().numpy()\n",
        "    plt.plot(x_f, y_f, label = \"Predicted\")\n",
        "    plt.title(\"Harmonic Oscillator\")\n",
        "    plt.ylabel(\"f(x)\")\n",
        "    plt.xlabel(\"x\")\n",
        "#    plt.savefig(\"Harmonic_Oscilator/predicted.png\", dpi = 100)\n",
        "    plt.show()"
      ],
      "metadata": {
        "collapsed": true,
        "id": "cZij-e6PBVXt",
        "outputId": "d507accb-44f0-4dec-b2a7-9d7628f71d7b",
        "colab": {
          "base_uri": "https://localhost:8080/"
        }
      },
      "execution_count": null,
      "outputs": [
        {
          "output_type": "stream",
          "name": "stdout",
          "text": [
            "Epoch: 0, Loss: 1.0528008937835693\n",
            "Epoch: 1000, Loss: 0.3075884282588959\n",
            "Epoch: 2000, Loss: 0.3070891201496124\n",
            "Epoch: 3000, Loss: 0.3062180280685425\n",
            "Epoch: 4000, Loss: 0.3045702874660492\n",
            "Epoch: 5000, Loss: 0.28798145055770874\n",
            "Epoch: 6000, Loss: 0.15684828162193298\n",
            "Epoch: 7000, Loss: 0.05229926109313965\n",
            "Epoch: 8000, Loss: 0.026245029643177986\n",
            "Epoch: 9000, Loss: 0.014056876301765442\n",
            "Epoch: 10000, Loss: 0.012754285708069801\n",
            "Epoch: 11000, Loss: 0.011444997042417526\n",
            "Epoch: 12000, Loss: 0.010208380408585072\n"
          ]
        }
      ]
    },
    {
      "cell_type": "code",
      "source": [
        "    y_f = model(x_f).numpy()\n",
        "    x_f = x_f.numpy()\n",
        "    plt.plot(x_f, y_f, label = \"Predicted\")\n",
        "    plt.title(\"Harmonic Oscillator\")\n",
        "    plt.ylabel(r\"$f(x)$\")\n",
        "    plt.xlabel(r\"$x$\")\n",
        "#    plt.savefig(\"Harmonic_Oscilator/predicted.png\", dpi = 100)\n",
        "    plt.show()"
      ],
      "metadata": {
        "id": "CpNr6ZduLNHZ",
        "outputId": "e787b681-d969-44a4-fc1e-7cdb7e6b6e4b",
        "colab": {
          "base_uri": "https://localhost:8080/",
          "height": 394
        }
      },
      "execution_count": 23,
      "outputs": [
        {
          "output_type": "error",
          "ename": "TypeError",
          "evalue": "linear(): argument 'input' (position 1) must be Tensor, not numpy.ndarray",
          "traceback": [
            "\u001b[0;31m---------------------------------------------------------------------------\u001b[0m",
            "\u001b[0;31mTypeError\u001b[0m                                 Traceback (most recent call last)",
            "\u001b[0;32m<ipython-input-23-343e41a14596>\u001b[0m in \u001b[0;36m<cell line: 1>\u001b[0;34m()\u001b[0m\n\u001b[0;32m----> 1\u001b[0;31m \u001b[0my_f\u001b[0m \u001b[0;34m=\u001b[0m \u001b[0mmodel\u001b[0m\u001b[0;34m(\u001b[0m\u001b[0mx_f\u001b[0m\u001b[0;34m)\u001b[0m\u001b[0;34m.\u001b[0m\u001b[0mnumpy\u001b[0m\u001b[0;34m(\u001b[0m\u001b[0;34m)\u001b[0m\u001b[0;34m\u001b[0m\u001b[0;34m\u001b[0m\u001b[0m\n\u001b[0m\u001b[1;32m      2\u001b[0m \u001b[0mx_f\u001b[0m \u001b[0;34m=\u001b[0m \u001b[0mx_f\u001b[0m\u001b[0;34m.\u001b[0m\u001b[0mnumpy\u001b[0m\u001b[0;34m(\u001b[0m\u001b[0;34m)\u001b[0m\u001b[0;34m\u001b[0m\u001b[0;34m\u001b[0m\u001b[0m\n\u001b[1;32m      3\u001b[0m \u001b[0mplt\u001b[0m\u001b[0;34m.\u001b[0m\u001b[0mplot\u001b[0m\u001b[0;34m(\u001b[0m\u001b[0mx_f\u001b[0m\u001b[0;34m,\u001b[0m \u001b[0my_f\u001b[0m\u001b[0;34m,\u001b[0m \u001b[0mlabel\u001b[0m \u001b[0;34m=\u001b[0m \u001b[0;34m\"Predicted\"\u001b[0m\u001b[0;34m)\u001b[0m\u001b[0;34m\u001b[0m\u001b[0;34m\u001b[0m\u001b[0m\n\u001b[1;32m      4\u001b[0m \u001b[0mplt\u001b[0m\u001b[0;34m.\u001b[0m\u001b[0mtitle\u001b[0m\u001b[0;34m(\u001b[0m\u001b[0;34m\"Harmonic Oscillator\"\u001b[0m\u001b[0;34m)\u001b[0m\u001b[0;34m\u001b[0m\u001b[0;34m\u001b[0m\u001b[0m\n\u001b[1;32m      5\u001b[0m \u001b[0mplt\u001b[0m\u001b[0;34m.\u001b[0m\u001b[0mylabel\u001b[0m\u001b[0;34m(\u001b[0m\u001b[0;34mr\"$f(x)$\"\u001b[0m\u001b[0;34m)\u001b[0m\u001b[0;34m\u001b[0m\u001b[0;34m\u001b[0m\u001b[0m\n",
            "\u001b[0;32m/usr/local/lib/python3.10/dist-packages/torch/nn/modules/module.py\u001b[0m in \u001b[0;36m_wrapped_call_impl\u001b[0;34m(self, *args, **kwargs)\u001b[0m\n\u001b[1;32m   1530\u001b[0m             \u001b[0;32mreturn\u001b[0m \u001b[0mself\u001b[0m\u001b[0;34m.\u001b[0m\u001b[0m_compiled_call_impl\u001b[0m\u001b[0;34m(\u001b[0m\u001b[0;34m*\u001b[0m\u001b[0margs\u001b[0m\u001b[0;34m,\u001b[0m \u001b[0;34m**\u001b[0m\u001b[0mkwargs\u001b[0m\u001b[0;34m)\u001b[0m  \u001b[0;31m# type: ignore[misc]\u001b[0m\u001b[0;34m\u001b[0m\u001b[0;34m\u001b[0m\u001b[0m\n\u001b[1;32m   1531\u001b[0m         \u001b[0;32melse\u001b[0m\u001b[0;34m:\u001b[0m\u001b[0;34m\u001b[0m\u001b[0;34m\u001b[0m\u001b[0m\n\u001b[0;32m-> 1532\u001b[0;31m             \u001b[0;32mreturn\u001b[0m \u001b[0mself\u001b[0m\u001b[0;34m.\u001b[0m\u001b[0m_call_impl\u001b[0m\u001b[0;34m(\u001b[0m\u001b[0;34m*\u001b[0m\u001b[0margs\u001b[0m\u001b[0;34m,\u001b[0m \u001b[0;34m**\u001b[0m\u001b[0mkwargs\u001b[0m\u001b[0;34m)\u001b[0m\u001b[0;34m\u001b[0m\u001b[0;34m\u001b[0m\u001b[0m\n\u001b[0m\u001b[1;32m   1533\u001b[0m \u001b[0;34m\u001b[0m\u001b[0m\n\u001b[1;32m   1534\u001b[0m     \u001b[0;32mdef\u001b[0m \u001b[0m_call_impl\u001b[0m\u001b[0;34m(\u001b[0m\u001b[0mself\u001b[0m\u001b[0;34m,\u001b[0m \u001b[0;34m*\u001b[0m\u001b[0margs\u001b[0m\u001b[0;34m,\u001b[0m \u001b[0;34m**\u001b[0m\u001b[0mkwargs\u001b[0m\u001b[0;34m)\u001b[0m\u001b[0;34m:\u001b[0m\u001b[0;34m\u001b[0m\u001b[0;34m\u001b[0m\u001b[0m\n",
            "\u001b[0;32m/usr/local/lib/python3.10/dist-packages/torch/nn/modules/module.py\u001b[0m in \u001b[0;36m_call_impl\u001b[0;34m(self, *args, **kwargs)\u001b[0m\n\u001b[1;32m   1539\u001b[0m                 \u001b[0;32mor\u001b[0m \u001b[0m_global_backward_pre_hooks\u001b[0m \u001b[0;32mor\u001b[0m \u001b[0m_global_backward_hooks\u001b[0m\u001b[0;34m\u001b[0m\u001b[0;34m\u001b[0m\u001b[0m\n\u001b[1;32m   1540\u001b[0m                 or _global_forward_hooks or _global_forward_pre_hooks):\n\u001b[0;32m-> 1541\u001b[0;31m             \u001b[0;32mreturn\u001b[0m \u001b[0mforward_call\u001b[0m\u001b[0;34m(\u001b[0m\u001b[0;34m*\u001b[0m\u001b[0margs\u001b[0m\u001b[0;34m,\u001b[0m \u001b[0;34m**\u001b[0m\u001b[0mkwargs\u001b[0m\u001b[0;34m)\u001b[0m\u001b[0;34m\u001b[0m\u001b[0;34m\u001b[0m\u001b[0m\n\u001b[0m\u001b[1;32m   1542\u001b[0m \u001b[0;34m\u001b[0m\u001b[0m\n\u001b[1;32m   1543\u001b[0m         \u001b[0;32mtry\u001b[0m\u001b[0;34m:\u001b[0m\u001b[0;34m\u001b[0m\u001b[0;34m\u001b[0m\u001b[0m\n",
            "\u001b[0;32m<ipython-input-5-b8d9aa1f04e8>\u001b[0m in \u001b[0;36mforward\u001b[0;34m(self, x)\u001b[0m\n\u001b[1;32m     14\u001b[0m \u001b[0;34m\u001b[0m\u001b[0m\n\u001b[1;32m     15\u001b[0m     \u001b[0;32mdef\u001b[0m \u001b[0mforward\u001b[0m\u001b[0;34m(\u001b[0m\u001b[0mself\u001b[0m\u001b[0;34m,\u001b[0m \u001b[0mx\u001b[0m\u001b[0;34m:\u001b[0m \u001b[0mtorch\u001b[0m\u001b[0;34m.\u001b[0m\u001b[0mTensor\u001b[0m\u001b[0;34m)\u001b[0m \u001b[0;34m->\u001b[0m \u001b[0mtorch\u001b[0m\u001b[0;34m.\u001b[0m\u001b[0mTensor\u001b[0m\u001b[0;34m:\u001b[0m\u001b[0;34m\u001b[0m\u001b[0;34m\u001b[0m\u001b[0m\n\u001b[0;32m---> 16\u001b[0;31m         \u001b[0mx\u001b[0m \u001b[0;34m=\u001b[0m \u001b[0mself\u001b[0m\u001b[0;34m.\u001b[0m\u001b[0mlinear_in\u001b[0m\u001b[0;34m(\u001b[0m\u001b[0mx\u001b[0m\u001b[0;34m)\u001b[0m\u001b[0;34m\u001b[0m\u001b[0;34m\u001b[0m\u001b[0m\n\u001b[0m\u001b[1;32m     17\u001b[0m         \u001b[0mx\u001b[0m \u001b[0;34m=\u001b[0m \u001b[0mself\u001b[0m\u001b[0;34m.\u001b[0m\u001b[0mact\u001b[0m\u001b[0;34m(\u001b[0m\u001b[0mx\u001b[0m\u001b[0;34m)\u001b[0m\u001b[0;34m\u001b[0m\u001b[0;34m\u001b[0m\u001b[0m\n\u001b[1;32m     18\u001b[0m         \u001b[0;32mfor\u001b[0m \u001b[0mlayer\u001b[0m \u001b[0;32min\u001b[0m \u001b[0mself\u001b[0m\u001b[0;34m.\u001b[0m\u001b[0mlayers\u001b[0m\u001b[0;34m:\u001b[0m\u001b[0;34m\u001b[0m\u001b[0;34m\u001b[0m\u001b[0m\n",
            "\u001b[0;32m/usr/local/lib/python3.10/dist-packages/torch/nn/modules/module.py\u001b[0m in \u001b[0;36m_wrapped_call_impl\u001b[0;34m(self, *args, **kwargs)\u001b[0m\n\u001b[1;32m   1530\u001b[0m             \u001b[0;32mreturn\u001b[0m \u001b[0mself\u001b[0m\u001b[0;34m.\u001b[0m\u001b[0m_compiled_call_impl\u001b[0m\u001b[0;34m(\u001b[0m\u001b[0;34m*\u001b[0m\u001b[0margs\u001b[0m\u001b[0;34m,\u001b[0m \u001b[0;34m**\u001b[0m\u001b[0mkwargs\u001b[0m\u001b[0;34m)\u001b[0m  \u001b[0;31m# type: ignore[misc]\u001b[0m\u001b[0;34m\u001b[0m\u001b[0;34m\u001b[0m\u001b[0m\n\u001b[1;32m   1531\u001b[0m         \u001b[0;32melse\u001b[0m\u001b[0;34m:\u001b[0m\u001b[0;34m\u001b[0m\u001b[0;34m\u001b[0m\u001b[0m\n\u001b[0;32m-> 1532\u001b[0;31m             \u001b[0;32mreturn\u001b[0m \u001b[0mself\u001b[0m\u001b[0;34m.\u001b[0m\u001b[0m_call_impl\u001b[0m\u001b[0;34m(\u001b[0m\u001b[0;34m*\u001b[0m\u001b[0margs\u001b[0m\u001b[0;34m,\u001b[0m \u001b[0;34m**\u001b[0m\u001b[0mkwargs\u001b[0m\u001b[0;34m)\u001b[0m\u001b[0;34m\u001b[0m\u001b[0;34m\u001b[0m\u001b[0m\n\u001b[0m\u001b[1;32m   1533\u001b[0m \u001b[0;34m\u001b[0m\u001b[0m\n\u001b[1;32m   1534\u001b[0m     \u001b[0;32mdef\u001b[0m \u001b[0m_call_impl\u001b[0m\u001b[0;34m(\u001b[0m\u001b[0mself\u001b[0m\u001b[0;34m,\u001b[0m \u001b[0;34m*\u001b[0m\u001b[0margs\u001b[0m\u001b[0;34m,\u001b[0m \u001b[0;34m**\u001b[0m\u001b[0mkwargs\u001b[0m\u001b[0;34m)\u001b[0m\u001b[0;34m:\u001b[0m\u001b[0;34m\u001b[0m\u001b[0;34m\u001b[0m\u001b[0m\n",
            "\u001b[0;32m/usr/local/lib/python3.10/dist-packages/torch/nn/modules/module.py\u001b[0m in \u001b[0;36m_call_impl\u001b[0;34m(self, *args, **kwargs)\u001b[0m\n\u001b[1;32m   1539\u001b[0m                 \u001b[0;32mor\u001b[0m \u001b[0m_global_backward_pre_hooks\u001b[0m \u001b[0;32mor\u001b[0m \u001b[0m_global_backward_hooks\u001b[0m\u001b[0;34m\u001b[0m\u001b[0;34m\u001b[0m\u001b[0m\n\u001b[1;32m   1540\u001b[0m                 or _global_forward_hooks or _global_forward_pre_hooks):\n\u001b[0;32m-> 1541\u001b[0;31m             \u001b[0;32mreturn\u001b[0m \u001b[0mforward_call\u001b[0m\u001b[0;34m(\u001b[0m\u001b[0;34m*\u001b[0m\u001b[0margs\u001b[0m\u001b[0;34m,\u001b[0m \u001b[0;34m**\u001b[0m\u001b[0mkwargs\u001b[0m\u001b[0;34m)\u001b[0m\u001b[0;34m\u001b[0m\u001b[0;34m\u001b[0m\u001b[0m\n\u001b[0m\u001b[1;32m   1542\u001b[0m \u001b[0;34m\u001b[0m\u001b[0m\n\u001b[1;32m   1543\u001b[0m         \u001b[0;32mtry\u001b[0m\u001b[0;34m:\u001b[0m\u001b[0;34m\u001b[0m\u001b[0;34m\u001b[0m\u001b[0m\n",
            "\u001b[0;32m/usr/local/lib/python3.10/dist-packages/torch/nn/modules/linear.py\u001b[0m in \u001b[0;36mforward\u001b[0;34m(self, input)\u001b[0m\n\u001b[1;32m    114\u001b[0m \u001b[0;34m\u001b[0m\u001b[0m\n\u001b[1;32m    115\u001b[0m     \u001b[0;32mdef\u001b[0m \u001b[0mforward\u001b[0m\u001b[0;34m(\u001b[0m\u001b[0mself\u001b[0m\u001b[0;34m,\u001b[0m \u001b[0minput\u001b[0m\u001b[0;34m:\u001b[0m \u001b[0mTensor\u001b[0m\u001b[0;34m)\u001b[0m \u001b[0;34m->\u001b[0m \u001b[0mTensor\u001b[0m\u001b[0;34m:\u001b[0m\u001b[0;34m\u001b[0m\u001b[0;34m\u001b[0m\u001b[0m\n\u001b[0;32m--> 116\u001b[0;31m         \u001b[0;32mreturn\u001b[0m \u001b[0mF\u001b[0m\u001b[0;34m.\u001b[0m\u001b[0mlinear\u001b[0m\u001b[0;34m(\u001b[0m\u001b[0minput\u001b[0m\u001b[0;34m,\u001b[0m \u001b[0mself\u001b[0m\u001b[0;34m.\u001b[0m\u001b[0mweight\u001b[0m\u001b[0;34m,\u001b[0m \u001b[0mself\u001b[0m\u001b[0;34m.\u001b[0m\u001b[0mbias\u001b[0m\u001b[0;34m)\u001b[0m\u001b[0;34m\u001b[0m\u001b[0;34m\u001b[0m\u001b[0m\n\u001b[0m\u001b[1;32m    117\u001b[0m \u001b[0;34m\u001b[0m\u001b[0m\n\u001b[1;32m    118\u001b[0m     \u001b[0;32mdef\u001b[0m \u001b[0mextra_repr\u001b[0m\u001b[0;34m(\u001b[0m\u001b[0mself\u001b[0m\u001b[0;34m)\u001b[0m \u001b[0;34m->\u001b[0m \u001b[0mstr\u001b[0m\u001b[0;34m:\u001b[0m\u001b[0;34m\u001b[0m\u001b[0;34m\u001b[0m\u001b[0m\n",
            "\u001b[0;31mTypeError\u001b[0m: linear(): argument 'input' (position 1) must be Tensor, not numpy.ndarray"
          ]
        }
      ]
    }
  ],
  "metadata": {
    "kernelspec": {
      "display_name": "Python 3 (ipykernel)",
      "language": "python",
      "name": "python3"
    },
    "language_info": {
      "codemirror_mode": {
        "name": "ipython",
        "version": 3
      },
      "file_extension": ".py",
      "mimetype": "text/x-python",
      "name": "python",
      "nbconvert_exporter": "python",
      "pygments_lexer": "ipython3",
      "version": "3.9.12"
    },
    "colab": {
      "provenance": []
    }
  },
  "nbformat": 4,
  "nbformat_minor": 0
}